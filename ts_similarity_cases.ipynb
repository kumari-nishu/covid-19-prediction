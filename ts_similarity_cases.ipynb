{
 "cells": [
  {
   "cell_type": "code",
   "execution_count": 33,
   "metadata": {},
   "outputs": [],
   "source": [
    "import pandas as pd\n",
    "import numpy as np\n",
    "import matplotlib.pyplot as plt\n",
    "from collections import Counter\n",
    "from scipy.stats import pearsonr\n",
    "import math\n",
    "from scipy import spatial\n",
    "from pmdarima import auto_arima\n",
    "from statsmodels.tsa.holtwinters import ExponentialSmoothing\n",
    "from math import sqrt\n",
    "from sklearn.metrics import mean_squared_error\n",
    "import warnings\n",
    "warnings.filterwarnings('ignore')"
   ]
  },
  {
   "cell_type": "code",
   "execution_count": 34,
   "metadata": {},
   "outputs": [],
   "source": [
    "#confirmed = pd.read_csv('time_series_covid19_confirmed_global.csv')\n",
    "# confirmed = pd.read_csv('time_series_covid19_deaths_global.csv')\n",
    "# recovered = pd.read_csv('time_series_covid19_recovered_global.csv')\n",
    "\n",
    "# latest\n",
    "confirmed = pd.read_csv('time_series_covid19_confirmed_global.csv')\n",
    "#confirmed= pd.read_csv('deaths_global_latest.csv')"
   ]
  },
  {
   "cell_type": "markdown",
   "metadata": {},
   "source": [
    "# Util"
   ]
  },
  {
   "cell_type": "code",
   "execution_count": 35,
   "metadata": {},
   "outputs": [],
   "source": [
    "def scorer(y_pred, y_test):\n",
    "    return np.sum([(np.log10(x) - np.log10(y))**2 for x, y in zip(y_pred, y_test) if x>1 and y>100])"
   ]
  },
  {
   "cell_type": "code",
   "execution_count": 36,
   "metadata": {},
   "outputs": [],
   "source": [
    "def evaluate(sorted_combined):\n",
    "    n = len(sorted_combined[0][2])\n",
    "    scores = []\n",
    "    for day in range(n):\n",
    "        y_real = []\n",
    "        y_pred = []\n",
    "        for a in sorted_combined:\n",
    "            \n",
    "            y_real = y_real + [a[2]['cases'].values[day]]\n",
    "            y_pred = y_pred + [a[3]['Prediction'].values[day]]\n",
    "\n",
    "        y_pred = [int(np.ceil(x)) for x in y_pred]\n",
    "        sc = scorer(y_pred, y_real)\n",
    "        print(day, sc)\n",
    "        scores.append(sc)\n",
    "    return scores, y_pred, y_real"
   ]
  },
  {
   "cell_type": "code",
   "execution_count": 37,
   "metadata": {},
   "outputs": [],
   "source": [
    "def evaluate_ensemble(sorted_combined, sorted_combined1):\n",
    "    n = len(sorted_combined[0][2])\n",
    "    scores = []\n",
    "    for day in range(n):\n",
    "        y_real = []\n",
    "        y_pred = []\n",
    "        y_pred1 = []\n",
    "        for i in range(len(sorted_combined)):\n",
    "            a = sorted_combined[i]\n",
    "            b = sorted_combined1[i]\n",
    "            y_real = y_real + [a[2]['cases'].values[day]]\n",
    "            y_pred = y_pred + [a[3]['Prediction'].values[day]]\n",
    "            y_pred1 = y_pred1 + [b[3]['Prediction'].values[day]]\n",
    "\n",
    "        y_pred_ensembled = [int(np.ceil((x+x1)/2.0) ) for x,x1 in zip(y_pred, y_pred1)]\n",
    "        sc = scorer(y_pred_ensembled, y_real)\n",
    "        print(day, sc)\n",
    "        scores.append(sc)\n",
    "    return scores, y_pred_ensembled,y_pred, y_pred1,  y_real"
   ]
  },
  {
   "cell_type": "markdown",
   "metadata": {},
   "source": [
    "# Auto Arima"
   ]
  },
  {
   "cell_type": "code",
   "execution_count": 38,
   "metadata": {},
   "outputs": [
    {
     "name": "stdout",
     "output_type": "stream",
     "text": [
      "28\n"
     ]
    }
   ],
   "source": [
    "a=10\n",
    "columns = confirmed.columns[4:]\n",
    "df = pd.DataFrame({'cases':confirmed.iloc[a].values[4:]})\n",
    "df.index = pd.to_datetime(columns)\n",
    "train = df\n",
    "valid = df[-7:]\n",
    "print(train['cases'][-2])"
   ]
  },
  {
   "cell_type": "code",
   "execution_count": 39,
   "metadata": {},
   "outputs": [],
   "source": [
    "def my_arima_model(index, train, valid, do_plot=0):\n",
    "    if train['cases'][-1]==train['cases'][-2] and train['cases'][-2]==train['cases'][-3]:\n",
    "        forecast = [train['cases'][-1]]*(len(valid))\n",
    "        print('......', forecast)\n",
    "    else:\n",
    "        model = auto_arima(train, trace=True, error_action='ignore', suppress_warnings=True, information_criterion='bic')\n",
    "        model.fit(train)\n",
    "        forecast = model.predict(n_periods=len(valid))\n",
    "        print('---------', forecast)\n",
    "\n",
    "    forecast = pd.DataFrame(forecast,index = valid.index,columns=['Prediction'])\n",
    "    rms = sqrt(mean_squared_error(valid,forecast))\n",
    "    print(index, rms)\n",
    "    #plot the predictions for validation set\n",
    "    if do_plot==1:\n",
    "        plt.plot(train, label='Train')\n",
    "        plt.plot(valid, label='Valid')\n",
    "        plt.plot(forecast, label='Prediction')\n",
    "        plt.legend()\n",
    "        plt.show()\n",
    "    return rms, forecast"
   ]
  },
  {
   "cell_type": "code",
   "execution_count": 40,
   "metadata": {
    "scrolled": true
   },
   "outputs": [
    {
     "name": "stdout",
     "output_type": "stream",
     "text": [
      "Performing stepwise search to minimize bic\n",
      "Fit ARIMA: (2, 2, 2)x(0, 0, 0, 0) (constant=True); AIC=715.100, BIC=730.166, Time=0.127 seconds\n",
      "Fit ARIMA: (0, 2, 0)x(0, 0, 0, 0) (constant=True); AIC=767.877, BIC=772.899, Time=0.006 seconds\n",
      "Fit ARIMA: (1, 2, 0)x(0, 0, 0, 0) (constant=True); AIC=721.833, BIC=729.366, Time=0.018 seconds\n",
      "Fit ARIMA: (0, 2, 1)x(0, 0, 0, 0) (constant=True); AIC=720.911, BIC=728.444, Time=0.029 seconds\n",
      "Fit ARIMA: (0, 2, 0)x(0, 0, 0, 0) (constant=False); AIC=766.327, BIC=768.837, Time=0.006 seconds\n",
      "Fit ARIMA: (1, 2, 1)x(0, 0, 0, 0) (constant=True); AIC=719.212, BIC=729.255, Time=0.043 seconds\n",
      "Fit ARIMA: (0, 2, 2)x(0, 0, 0, 0) (constant=True); AIC=724.765, BIC=734.809, Time=0.055 seconds\n",
      "Fit ARIMA: (1, 2, 2)x(0, 0, 0, 0) (constant=True); AIC=713.147, BIC=725.701, Time=0.071 seconds\n",
      "Fit ARIMA: (1, 2, 3)x(0, 0, 0, 0) (constant=True); AIC=715.102, BIC=730.167, Time=0.151 seconds\n",
      "Fit ARIMA: (0, 2, 3)x(0, 0, 0, 0) (constant=True); AIC=712.062, BIC=724.617, Time=0.079 seconds\n",
      "Fit ARIMA: (0, 2, 4)x(0, 0, 0, 0) (constant=True); AIC=711.746, BIC=726.811, Time=0.143 seconds\n",
      "Fit ARIMA: (1, 2, 4)x(0, 0, 0, 0) (constant=True); AIC=714.229, BIC=731.805, Time=0.185 seconds\n",
      "Total fit time: 0.922 seconds\n",
      "--------- [1366.80849078 1465.36136308 1547.77980488 1631.10183479 1715.3274528\n",
      " 1800.45665892 1886.48945315 1973.42583548]\n"
     ]
    },
    {
     "ename": "TypeError",
     "evalue": "'builtin_function_or_method' object is not iterable",
     "output_type": "error",
     "traceback": [
      "\u001b[0;31m---------------------------------------------------------------------------\u001b[0m",
      "\u001b[0;31mTypeError\u001b[0m                                 Traceback (most recent call last)",
      "\u001b[0;32m<ipython-input-40-c42986193646>\u001b[0m in \u001b[0;36m<module>\u001b[0;34m\u001b[0m\n\u001b[1;32m      6\u001b[0m     \u001b[0mtrain\u001b[0m \u001b[0;34m=\u001b[0m \u001b[0mdf\u001b[0m\u001b[0;34m\u001b[0m\u001b[0;34m\u001b[0m\u001b[0m\n\u001b[1;32m      7\u001b[0m     \u001b[0mvalid\u001b[0m \u001b[0;34m=\u001b[0m \u001b[0;34m[\u001b[0m\u001b[0;36m1\u001b[0m\u001b[0;34m,\u001b[0m\u001b[0;36m2\u001b[0m\u001b[0;34m,\u001b[0m\u001b[0;36m3\u001b[0m\u001b[0;34m,\u001b[0m\u001b[0;36m4\u001b[0m\u001b[0;34m,\u001b[0m\u001b[0;36m5\u001b[0m\u001b[0;34m,\u001b[0m\u001b[0;36m6\u001b[0m\u001b[0;34m,\u001b[0m\u001b[0;36m7\u001b[0m\u001b[0;34m,\u001b[0m\u001b[0;36m8\u001b[0m\u001b[0;34m]\u001b[0m\u001b[0;34m\u001b[0m\u001b[0;34m\u001b[0m\u001b[0m\n\u001b[0;32m----> 8\u001b[0;31m     \u001b[0mrms\u001b[0m\u001b[0;34m,\u001b[0m \u001b[0mforecast\u001b[0m \u001b[0;34m=\u001b[0m \u001b[0mmy_arima_model\u001b[0m\u001b[0;34m(\u001b[0m\u001b[0ma\u001b[0m\u001b[0;34m,\u001b[0m \u001b[0mtrain\u001b[0m\u001b[0;34m,\u001b[0m \u001b[0mvalid\u001b[0m\u001b[0;34m)\u001b[0m\u001b[0;34m\u001b[0m\u001b[0;34m\u001b[0m\u001b[0m\n\u001b[0m\u001b[1;32m      9\u001b[0m     \u001b[0mcurrent\u001b[0m \u001b[0;34m=\u001b[0m \u001b[0;34m[\u001b[0m\u001b[0mrms\u001b[0m\u001b[0;34m,\u001b[0m \u001b[0ma\u001b[0m\u001b[0;34m,\u001b[0m \u001b[0mvalid\u001b[0m\u001b[0;34m,\u001b[0m \u001b[0mforecast\u001b[0m\u001b[0;34m,\u001b[0m \u001b[0mtrain\u001b[0m\u001b[0;34m]\u001b[0m\u001b[0;34m\u001b[0m\u001b[0;34m\u001b[0m\u001b[0m\n\u001b[1;32m     10\u001b[0m     \u001b[0mcombined\u001b[0m\u001b[0;34m.\u001b[0m\u001b[0mappend\u001b[0m\u001b[0;34m(\u001b[0m\u001b[0mcurrent\u001b[0m\u001b[0;34m)\u001b[0m\u001b[0;34m\u001b[0m\u001b[0;34m\u001b[0m\u001b[0m\n",
      "\u001b[0;32m<ipython-input-39-63a438b4e763>\u001b[0m in \u001b[0;36mmy_arima_model\u001b[0;34m(index, train, valid, do_plot)\u001b[0m\n\u001b[1;32m      9\u001b[0m         \u001b[0mprint\u001b[0m\u001b[0;34m(\u001b[0m\u001b[0;34m'---------'\u001b[0m\u001b[0;34m,\u001b[0m \u001b[0mforecast\u001b[0m\u001b[0;34m)\u001b[0m\u001b[0;34m\u001b[0m\u001b[0;34m\u001b[0m\u001b[0m\n\u001b[1;32m     10\u001b[0m \u001b[0;34m\u001b[0m\u001b[0m\n\u001b[0;32m---> 11\u001b[0;31m     \u001b[0mforecast\u001b[0m \u001b[0;34m=\u001b[0m \u001b[0mpd\u001b[0m\u001b[0;34m.\u001b[0m\u001b[0mDataFrame\u001b[0m\u001b[0;34m(\u001b[0m\u001b[0mforecast\u001b[0m\u001b[0;34m,\u001b[0m\u001b[0mindex\u001b[0m \u001b[0;34m=\u001b[0m \u001b[0mvalid\u001b[0m\u001b[0;34m.\u001b[0m\u001b[0mindex\u001b[0m\u001b[0;34m,\u001b[0m\u001b[0mcolumns\u001b[0m\u001b[0;34m=\u001b[0m\u001b[0;34m[\u001b[0m\u001b[0;34m'Prediction'\u001b[0m\u001b[0;34m]\u001b[0m\u001b[0;34m)\u001b[0m\u001b[0;34m\u001b[0m\u001b[0;34m\u001b[0m\u001b[0m\n\u001b[0m\u001b[1;32m     12\u001b[0m     \u001b[0mrms\u001b[0m \u001b[0;34m=\u001b[0m \u001b[0msqrt\u001b[0m\u001b[0;34m(\u001b[0m\u001b[0mmean_squared_error\u001b[0m\u001b[0;34m(\u001b[0m\u001b[0mvalid\u001b[0m\u001b[0;34m,\u001b[0m\u001b[0mforecast\u001b[0m\u001b[0;34m)\u001b[0m\u001b[0;34m)\u001b[0m\u001b[0;34m\u001b[0m\u001b[0;34m\u001b[0m\u001b[0m\n\u001b[1;32m     13\u001b[0m     \u001b[0mprint\u001b[0m\u001b[0;34m(\u001b[0m\u001b[0mindex\u001b[0m\u001b[0;34m,\u001b[0m \u001b[0mrms\u001b[0m\u001b[0;34m)\u001b[0m\u001b[0;34m\u001b[0m\u001b[0;34m\u001b[0m\u001b[0m\n",
      "\u001b[0;32m~/anaconda3/lib/python3.7/site-packages/pandas/core/frame.py\u001b[0m in \u001b[0;36m__init__\u001b[0;34m(self, data, index, columns, dtype, copy)\u001b[0m\n\u001b[1;32m    462\u001b[0m                 \u001b[0mmgr\u001b[0m \u001b[0;34m=\u001b[0m \u001b[0minit_dict\u001b[0m\u001b[0;34m(\u001b[0m\u001b[0;34m{\u001b[0m\u001b[0mdata\u001b[0m\u001b[0;34m.\u001b[0m\u001b[0mname\u001b[0m\u001b[0;34m:\u001b[0m \u001b[0mdata\u001b[0m\u001b[0;34m}\u001b[0m\u001b[0;34m,\u001b[0m \u001b[0mindex\u001b[0m\u001b[0;34m,\u001b[0m \u001b[0mcolumns\u001b[0m\u001b[0;34m,\u001b[0m \u001b[0mdtype\u001b[0m\u001b[0;34m=\u001b[0m\u001b[0mdtype\u001b[0m\u001b[0;34m)\u001b[0m\u001b[0;34m\u001b[0m\u001b[0;34m\u001b[0m\u001b[0m\n\u001b[1;32m    463\u001b[0m             \u001b[0;32melse\u001b[0m\u001b[0;34m:\u001b[0m\u001b[0;34m\u001b[0m\u001b[0;34m\u001b[0m\u001b[0m\n\u001b[0;32m--> 464\u001b[0;31m                 \u001b[0mmgr\u001b[0m \u001b[0;34m=\u001b[0m \u001b[0minit_ndarray\u001b[0m\u001b[0;34m(\u001b[0m\u001b[0mdata\u001b[0m\u001b[0;34m,\u001b[0m \u001b[0mindex\u001b[0m\u001b[0;34m,\u001b[0m \u001b[0mcolumns\u001b[0m\u001b[0;34m,\u001b[0m \u001b[0mdtype\u001b[0m\u001b[0;34m=\u001b[0m\u001b[0mdtype\u001b[0m\u001b[0;34m,\u001b[0m \u001b[0mcopy\u001b[0m\u001b[0;34m=\u001b[0m\u001b[0mcopy\u001b[0m\u001b[0;34m)\u001b[0m\u001b[0;34m\u001b[0m\u001b[0;34m\u001b[0m\u001b[0m\n\u001b[0m\u001b[1;32m    465\u001b[0m \u001b[0;34m\u001b[0m\u001b[0m\n\u001b[1;32m    466\u001b[0m         \u001b[0;31m# For data is list-like, or Iterable (will consume into list)\u001b[0m\u001b[0;34m\u001b[0m\u001b[0;34m\u001b[0m\u001b[0;34m\u001b[0m\u001b[0m\n",
      "\u001b[0;32m~/anaconda3/lib/python3.7/site-packages/pandas/core/internals/construction.py\u001b[0m in \u001b[0;36minit_ndarray\u001b[0;34m(values, index, columns, dtype, copy)\u001b[0m\n\u001b[1;32m    179\u001b[0m                 ) from orig\n\u001b[1;32m    180\u001b[0m \u001b[0;34m\u001b[0m\u001b[0m\n\u001b[0;32m--> 181\u001b[0;31m     \u001b[0mindex\u001b[0m\u001b[0;34m,\u001b[0m \u001b[0mcolumns\u001b[0m \u001b[0;34m=\u001b[0m \u001b[0m_get_axes\u001b[0m\u001b[0;34m(\u001b[0m\u001b[0;34m*\u001b[0m\u001b[0mvalues\u001b[0m\u001b[0;34m.\u001b[0m\u001b[0mshape\u001b[0m\u001b[0;34m,\u001b[0m \u001b[0mindex\u001b[0m\u001b[0;34m=\u001b[0m\u001b[0mindex\u001b[0m\u001b[0;34m,\u001b[0m \u001b[0mcolumns\u001b[0m\u001b[0;34m=\u001b[0m\u001b[0mcolumns\u001b[0m\u001b[0;34m)\u001b[0m\u001b[0;34m\u001b[0m\u001b[0;34m\u001b[0m\u001b[0m\n\u001b[0m\u001b[1;32m    182\u001b[0m     \u001b[0mvalues\u001b[0m \u001b[0;34m=\u001b[0m \u001b[0mvalues\u001b[0m\u001b[0;34m.\u001b[0m\u001b[0mT\u001b[0m\u001b[0;34m\u001b[0m\u001b[0;34m\u001b[0m\u001b[0m\n\u001b[1;32m    183\u001b[0m \u001b[0;34m\u001b[0m\u001b[0m\n",
      "\u001b[0;32m~/anaconda3/lib/python3.7/site-packages/pandas/core/internals/construction.py\u001b[0m in \u001b[0;36m_get_axes\u001b[0;34m(N, K, index, columns)\u001b[0m\n\u001b[1;32m    422\u001b[0m         \u001b[0mindex\u001b[0m \u001b[0;34m=\u001b[0m \u001b[0mibase\u001b[0m\u001b[0;34m.\u001b[0m\u001b[0mdefault_index\u001b[0m\u001b[0;34m(\u001b[0m\u001b[0mN\u001b[0m\u001b[0;34m)\u001b[0m\u001b[0;34m\u001b[0m\u001b[0;34m\u001b[0m\u001b[0m\n\u001b[1;32m    423\u001b[0m     \u001b[0;32melse\u001b[0m\u001b[0;34m:\u001b[0m\u001b[0;34m\u001b[0m\u001b[0;34m\u001b[0m\u001b[0m\n\u001b[0;32m--> 424\u001b[0;31m         \u001b[0mindex\u001b[0m \u001b[0;34m=\u001b[0m \u001b[0mensure_index\u001b[0m\u001b[0;34m(\u001b[0m\u001b[0mindex\u001b[0m\u001b[0;34m)\u001b[0m\u001b[0;34m\u001b[0m\u001b[0;34m\u001b[0m\u001b[0m\n\u001b[0m\u001b[1;32m    425\u001b[0m \u001b[0;34m\u001b[0m\u001b[0m\n\u001b[1;32m    426\u001b[0m     \u001b[0;32mif\u001b[0m \u001b[0mcolumns\u001b[0m \u001b[0;32mis\u001b[0m \u001b[0;32mNone\u001b[0m\u001b[0;34m:\u001b[0m\u001b[0;34m\u001b[0m\u001b[0;34m\u001b[0m\u001b[0m\n",
      "\u001b[0;32m~/anaconda3/lib/python3.7/site-packages/pandas/core/indexes/base.py\u001b[0m in \u001b[0;36mensure_index\u001b[0;34m(index_like, copy)\u001b[0m\n\u001b[1;32m   5356\u001b[0m             \u001b[0mindex_like\u001b[0m \u001b[0;34m=\u001b[0m \u001b[0mcopy\u001b[0m\u001b[0;34m(\u001b[0m\u001b[0mindex_like\u001b[0m\u001b[0;34m)\u001b[0m\u001b[0;34m\u001b[0m\u001b[0;34m\u001b[0m\u001b[0m\n\u001b[1;32m   5357\u001b[0m \u001b[0;34m\u001b[0m\u001b[0m\n\u001b[0;32m-> 5358\u001b[0;31m     \u001b[0;32mreturn\u001b[0m \u001b[0mIndex\u001b[0m\u001b[0;34m(\u001b[0m\u001b[0mindex_like\u001b[0m\u001b[0;34m)\u001b[0m\u001b[0;34m\u001b[0m\u001b[0;34m\u001b[0m\u001b[0m\n\u001b[0m\u001b[1;32m   5359\u001b[0m \u001b[0;34m\u001b[0m\u001b[0m\n\u001b[1;32m   5360\u001b[0m \u001b[0;34m\u001b[0m\u001b[0m\n",
      "\u001b[0;32m~/anaconda3/lib/python3.7/site-packages/pandas/core/indexes/base.py\u001b[0m in \u001b[0;36m__new__\u001b[0;34m(cls, data, dtype, copy, name, tupleize_cols, **kwargs)\u001b[0m\n\u001b[1;32m    436\u001b[0m                     )\n\u001b[1;32m    437\u001b[0m             \u001b[0;31m# other iterable of some kind\u001b[0m\u001b[0;34m\u001b[0m\u001b[0;34m\u001b[0m\u001b[0;34m\u001b[0m\u001b[0m\n\u001b[0;32m--> 438\u001b[0;31m             \u001b[0msubarr\u001b[0m \u001b[0;34m=\u001b[0m \u001b[0mcom\u001b[0m\u001b[0;34m.\u001b[0m\u001b[0masarray_tuplesafe\u001b[0m\u001b[0;34m(\u001b[0m\u001b[0mdata\u001b[0m\u001b[0;34m,\u001b[0m \u001b[0mdtype\u001b[0m\u001b[0;34m=\u001b[0m\u001b[0mobject\u001b[0m\u001b[0;34m)\u001b[0m\u001b[0;34m\u001b[0m\u001b[0;34m\u001b[0m\u001b[0m\n\u001b[0m\u001b[1;32m    439\u001b[0m             \u001b[0;32mreturn\u001b[0m \u001b[0mIndex\u001b[0m\u001b[0;34m(\u001b[0m\u001b[0msubarr\u001b[0m\u001b[0;34m,\u001b[0m \u001b[0mdtype\u001b[0m\u001b[0;34m=\u001b[0m\u001b[0mdtype\u001b[0m\u001b[0;34m,\u001b[0m \u001b[0mcopy\u001b[0m\u001b[0;34m=\u001b[0m\u001b[0mcopy\u001b[0m\u001b[0;34m,\u001b[0m \u001b[0mname\u001b[0m\u001b[0;34m=\u001b[0m\u001b[0mname\u001b[0m\u001b[0;34m,\u001b[0m \u001b[0;34m**\u001b[0m\u001b[0mkwargs\u001b[0m\u001b[0;34m)\u001b[0m\u001b[0;34m\u001b[0m\u001b[0;34m\u001b[0m\u001b[0m\n\u001b[1;32m    440\u001b[0m \u001b[0;34m\u001b[0m\u001b[0m\n",
      "\u001b[0;32m~/anaconda3/lib/python3.7/site-packages/pandas/core/common.py\u001b[0m in \u001b[0;36masarray_tuplesafe\u001b[0;34m(values, dtype)\u001b[0m\n\u001b[1;32m    225\u001b[0m \u001b[0;34m\u001b[0m\u001b[0m\n\u001b[1;32m    226\u001b[0m     \u001b[0;32mif\u001b[0m \u001b[0;32mnot\u001b[0m \u001b[0;34m(\u001b[0m\u001b[0misinstance\u001b[0m\u001b[0;34m(\u001b[0m\u001b[0mvalues\u001b[0m\u001b[0;34m,\u001b[0m \u001b[0;34m(\u001b[0m\u001b[0mlist\u001b[0m\u001b[0;34m,\u001b[0m \u001b[0mtuple\u001b[0m\u001b[0;34m)\u001b[0m\u001b[0;34m)\u001b[0m \u001b[0;32mor\u001b[0m \u001b[0mhasattr\u001b[0m\u001b[0;34m(\u001b[0m\u001b[0mvalues\u001b[0m\u001b[0;34m,\u001b[0m \u001b[0;34m\"__array__\"\u001b[0m\u001b[0;34m)\u001b[0m\u001b[0;34m)\u001b[0m\u001b[0;34m:\u001b[0m\u001b[0;34m\u001b[0m\u001b[0;34m\u001b[0m\u001b[0m\n\u001b[0;32m--> 227\u001b[0;31m         \u001b[0mvalues\u001b[0m \u001b[0;34m=\u001b[0m \u001b[0mlist\u001b[0m\u001b[0;34m(\u001b[0m\u001b[0mvalues\u001b[0m\u001b[0;34m)\u001b[0m\u001b[0;34m\u001b[0m\u001b[0;34m\u001b[0m\u001b[0m\n\u001b[0m\u001b[1;32m    228\u001b[0m     \u001b[0;32melif\u001b[0m \u001b[0misinstance\u001b[0m\u001b[0;34m(\u001b[0m\u001b[0mvalues\u001b[0m\u001b[0;34m,\u001b[0m \u001b[0mABCIndexClass\u001b[0m\u001b[0;34m)\u001b[0m\u001b[0;34m:\u001b[0m\u001b[0;34m\u001b[0m\u001b[0;34m\u001b[0m\u001b[0m\n\u001b[1;32m    229\u001b[0m         \u001b[0;32mreturn\u001b[0m \u001b[0mvalues\u001b[0m\u001b[0;34m.\u001b[0m\u001b[0mvalues\u001b[0m\u001b[0;34m\u001b[0m\u001b[0;34m\u001b[0m\u001b[0m\n",
      "\u001b[0;31mTypeError\u001b[0m: 'builtin_function_or_method' object is not iterable"
     ]
    }
   ],
   "source": [
    "combined = []\n",
    "columns = confirmed.columns[4:]\n",
    "for a in range(len(confirmed)):\n",
    "    df = pd.DataFrame({'cases':confirmed.iloc[a].values[4:]})\n",
    "    df.index = pd.to_datetime(columns)\n",
    "    train = df\n",
    "    valid = df[-7:]\n",
    "    rms, forecast = my_arima_model(a, train, valid)\n",
    "    current = [rms, a, valid, forecast, train]\n",
    "    combined.append(current)\n",
    "    "
   ]
  },
  {
   "cell_type": "code",
   "execution_count": null,
   "metadata": {
    "scrolled": true
   },
   "outputs": [],
   "source": [
    "score, y_pred, y_real = evaluate(combined)\n",
    "print(\"Score \",score)\n",
    "print(\"Prediction, Actual\")\n",
    "arima_pred_df = pd.DataFrame({\"Actual\": y_real, \"Prediction\":y_pred})\n",
    "#arima_pred_df.to_csv(\"21_april_deaths_arima_pred_df.csv\", index=False)\n",
    "#arima_pred_df.head()"
   ]
  },
  {
   "cell_type": "markdown",
   "metadata": {},
   "source": [
    "# Holt winter"
   ]
  },
  {
   "cell_type": "code",
   "execution_count": null,
   "metadata": {},
   "outputs": [],
   "source": [
    "def my_arima_model(index, train, valid, do_plot=0):\n",
    "    if train['cases'][-1]==train['cases'][-2] and train['cases'][-2]==train['cases'][-3]:\n",
    "        pred1 = [train['cases'][-1]]*(len(valid))\n",
    "        pred2 = [train['cases'][-1]]*(len(valid))\n",
    "        print('......', forecast)\n",
    "    else:\n",
    "        model1 = ExponentialSmoothing(np.asarray(train['cases']), trend=\"add\", seasonal=\"add\", seasonal_periods=7)\n",
    "        model2 = ExponentialSmoothing(np.asarray(train['cases']), trend=\"add\", seasonal=\"add\", seasonal_periods=7, damped=True)\n",
    "        fit1 = model1.fit()\n",
    "        pred1 = fit1.forecast(len(valid))\n",
    "        fit2 = model2.fit()\n",
    "        pred2 = fit2.forecast(len(valid))\n",
    "        \n",
    "    forecast1 = pd.DataFrame(pred1,index = valid.index,columns=['Prediction'])\n",
    "    rms1 = sqrt(mean_squared_error(valid,forecast1))\n",
    "    forecast2 = pd.DataFrame(pred2,index = valid.index,columns=['Prediction'])\n",
    "    rms2 = sqrt(mean_squared_error(valid,forecast2))\n",
    "    \n",
    "    print(index, rms1, rms2)\n",
    "    \n",
    "    #plot the predictions for validation set\n",
    "    if do_plot==1:\n",
    "        plt.plot(train, label='Train')\n",
    "        plt.plot(valid, label='Valid')\n",
    "        plt.plot(forecast, label='Prediction')\n",
    "        plt.legend()\n",
    "        plt.show()\n",
    "    return rms1, forecast1, rms2, forecast2"
   ]
  },
  {
   "cell_type": "code",
   "execution_count": null,
   "metadata": {
    "scrolled": true
   },
   "outputs": [],
   "source": [
    "combined1 = []\n",
    "combined2 = []\n",
    "columns = confirmed.columns[4:]\n",
    "for a in range(len(confirmed)):\n",
    "    df = pd.DataFrame({'cases':confirmed.iloc[a].values[4:], 'date':pd.to_datetime(columns)}).set_index('date')\n",
    "    #df.index = pd.to_datetime(columns)\n",
    "    train = df\n",
    "    valid = df[-8:]\n",
    "    rms1, forecast1, rms2, forecast2 = my_arima_model(a, train, valid)\n",
    "    current1 = [rms1, a, valid, forecast1, train]\n",
    "    combined1.append(current1)\n",
    "    current2 = [rms2, a, valid, forecast2, train]\n",
    "    combined2.append(current2)\n",
    "    "
   ]
  },
  {
   "cell_type": "code",
   "execution_count": null,
   "metadata": {},
   "outputs": [],
   "source": [
    "score, y_pred, y_real = evaluate(combined1)\n",
    "print(\"Score \",score)\n",
    "print(\"Prediction, Actual\")\n",
    "arima_pred_df = pd.DataFrame({\"Actual\": y_real, \"Prediction\":y_pred})\n",
    "#arima_pred_df.to_csv(\"22_april_cases_holt_pred_df.csv\", index=False)\n",
    "#arima_pred_df.head()"
   ]
  },
  {
   "cell_type": "code",
   "execution_count": 13,
   "metadata": {},
   "outputs": [
    {
     "name": "stdout",
     "output_type": "stream",
     "text": [
      "0 3.816463929863458\n",
      "1 4.084885627056459\n",
      "2 3.835099904945081\n",
      "3 3.619675810641033\n",
      "4 3.41986490984645\n",
      "5 3.299722545135662\n",
      "6 3.0161988051972988\n",
      "7 2.7257473593788752\n"
     ]
    }
   ],
   "source": [
    "score, y_pred_7thday, y_pred, y_pred1, y_real  = evaluate_ensemble(combined, combined1)"
   ]
  },
  {
   "cell_type": "markdown",
   "metadata": {},
   "source": [
    "# Ensembled"
   ]
  },
  {
   "cell_type": "code",
   "execution_count": 32,
   "metadata": {},
   "outputs": [],
   "source": [
    "ensembled_Results = pd.DataFrame({'7th_yReal': y_real, '7th_yArima': y_pred, '7th_yHolt': y_pred, '7th_yEnsembled': y_pred})\n",
    "ensembled_Results.to_csv(\"latest_ensembled_cases.csv\", index=False)"
   ]
  },
  {
   "cell_type": "code",
   "execution_count": null,
   "metadata": {},
   "outputs": [],
   "source": []
  }
 ],
 "metadata": {
  "kernelspec": {
   "display_name": "Python 3",
   "language": "python",
   "name": "python3"
  },
  "language_info": {
   "codemirror_mode": {
    "name": "ipython",
    "version": 3
   },
   "file_extension": ".py",
   "mimetype": "text/x-python",
   "name": "python",
   "nbconvert_exporter": "python",
   "pygments_lexer": "ipython3",
   "version": "3.7.3"
  }
 },
 "nbformat": 4,
 "nbformat_minor": 4
}
